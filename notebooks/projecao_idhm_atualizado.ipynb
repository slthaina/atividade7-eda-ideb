{
 "cells": [
  {
   "cell_type": "markdown",
   "id": "16f024bc",
   "metadata": {},
   "source": [
    "# Projeção do IDHM para Subprefeituras de São Paulo\n",
    "\n",
    "Projeção do Índice de Desenvolvimento Humano Municipal (IDHM) para 2020"
   ]
  },
  {
   "cell_type": "markdown",
   "id": "b08c1bee",
   "metadata": {},
   "source": [
    "Este script realiza a projeção dos valores do IDHM (geral, renda e educação) das subprefeituras de São Paulo \n",
    "para o ano de 2020, com base nos dados disponíveis dos anos de 2000 e 2010."
   ]
  },
  {
   "cell_type": "markdown",
   "id": "c74207aa",
   "metadata": {},
   "source": [
    "Duas abordagens são aplicadas:\n",
    "- Projeção Linear: estima o crescimento com base na diferença entre 2000 e 2010.\n",
    "- Projeção Exponencial: considera o crescimento percentual médio anual e aplica sobre 20 anos."
   ]
  },
  {
   "cell_type": "markdown",
   "id": "29dcec03",
   "metadata": {},
   "source": [
    "Etapas do script:\n",
    "- Carrega a base de dados (formato .xlsx ou .csv),\n",
    "- Calcula as projeções para 2020,\n",
    "- Exporta os resultados para um novo arquivo Excel."
   ]
  },
  {
   "cell_type": "markdown",
   "id": "f9ffb41d",
   "metadata": {},
   "source": [
    "Desenvolvido em Python 3.13 no IDLE e adaptado para uso em Jupyter Notebook.   "
   ]
  },
  {
   "cell_type": "code",
   "execution_count": null,
   "id": "a62f65ab",
   "metadata": {},
   "outputs": [],
   "source": [
    "# Importação das bibliotecas necessárias\n",
    "import pandas as pd  # Manipulação de dados\n",
    "import matplotlib.pyplot as plt  # Visualização de gráficos\n",
    "import seaborn as sns  # Estilização dos gráficos\n",
    "import numpy as np  # Operações matemáticas e estatísticas\n",
    "from sklearn.linear_model import LinearRegression  # Regressão linear"
   ]
  },
  {
   "cell_type": "code",
   "execution_count": null,
   "id": "9520da71",
   "metadata": {},
   "outputs": [],
   "source": [
    "# Definir o arquivo de entrada\n",
    "arquivo_entrada = \"idhm_subpref_anos.xlsx\"  # ou \"idhm_subpref_anos.xlsx.csv\""
   ]
  },
  {
   "cell_type": "code",
   "execution_count": null,
   "id": "7c28ea53",
   "metadata": {},
   "outputs": [],
   "source": [
    "try:\n",
    "    # Criar diretório para salvar os resultados, se não existir\n",
    "    os.makedirs(\"analises/projecoes_idhm\", exist_ok=True)\n",
    "\n",
    "    # Carregar os dados do IDHM\n",
    "    df_idhm = pd.read_excel(\"idhm_2000_2021.xlsx\")\n",
    "\n",
    "    # Listar as colunas de anos para análise\n",
    "    colunas_idhm = [\n",
    "        \"IDHM_2000\", \"IDHM_2010\", \"IDHM_2015\", \"IDHM_2017\",\n",
    "        \"IDHM_2018\", \"IDHM_2019\", \"IDHM_2020\", \"IDHM_2021\"\n",
    "    ]\n",
    "\n",
    "    # Converter colunas para numérico, tratando erros como NaN\n",
    "    df_idhm[colunas_idhm] = df_idhm[colunas_idhm].apply(pd.to_numeric, errors=\"coerce\")\n",
    "\n",
    "    def projetar_idhm(subprefeitura_df, anos_futuros):\n",
    "        \"\"\"Realiza regressão linear para projetar o IDHM.\"\"\"\n",
    "        X = np.array([int(ano.split(\"_\")[1]) for ano in colunas_idhm]).reshape(-1, 1)\n",
    "        y = subprefeitura_df[colunas_idhm].values.flatten()\n",
    "\n",
    "        # Remover valores nulos para o ajuste\n",
    "        mask = ~np.isnan(y)\n",
    "        X_clean = X[mask]\n",
    "        y_clean = y[mask]\n",
    "\n",
    "        model = LinearRegression()\n",
    "        model.fit(X_clean, y_clean)\n",
    "\n",
    "        # Fazer projeções\n",
    "        X_future = np.array(anos_futuros).reshape(-1, 1)\n",
    "        previsoes = model.predict(X_future)\n",
    "        return previsoes\n",
    "\n",
    "    # Definir os anos futuros para projeção\n",
    "    anos_futuros = [2025, 2030, 2035]\n",
    "    resultados = []\n",
    "\n",
    "    # Loop pelas subprefeituras e projetar IDHM\n",
    "    for _, row in df_idhm.iterrows():\n",
    "        subprefeitura = row[\"Prefeitura Regional\"]\n",
    "        previsoes = projetar_idhm(row.to_frame().T, anos_futuros)\n",
    "        for ano, valor in zip(anos_futuros, previsoes):\n",
    "            resultados.append({\n",
    "                \"Prefeitura Regional\": subprefeitura,\n",
    "                \"Ano\": ano,\n",
    "                \"Projecao_IDHM\": valor\n",
    "            })\n",
    "\n",
    "    # Salvar resultados\n",
    "    df_resultados = pd.DataFrame(resultados)\n",
    "    df_resultados.to_csv(\"analises/projecoes_idhm/projecoes_idhm.csv\", index=False)\n",
    "\n",
    "    # Gráfico geral das projeções\n",
    "    plt.figure(figsize=(14, 8))\n",
    "    for subprefeitura in df_resultados[\"Prefeitura Regional\"].unique():\n",
    "        sub_df = df_resultados[df_resultados[\"Prefeitura Regional\"] == subprefeitura]\n",
    "        plt.plot(sub_df[\"Ano\"], sub_df[\"Projecao_IDHM\"], marker=\"o\", label=subprefeitura)\n",
    "\n",
    "    plt.title(\"Projeções do IDHM por Subprefeitura (2025-2035)\")\n",
    "    plt.xlabel(\"Ano\")\n",
    "    plt.ylabel(\"Projeção IDHM\")\n",
    "    plt.legend(loc=\"upper left\", bbox_to_anchor=(1.05, 1), fontsize=\"small\", ncol=2)\n",
    "    plt.tight_layout()\n",
    "    plt.savefig(\"analises/projecoes_idhm/projecoes_idhm.png\", bbox_inches=\"tight\", dpi=300)\n",
    "    plt.close()\n",
    "\n",
    "    print(\"Projeções concluídas com sucesso! Resultados salvos em analises/projecoes_idhm.\")\n",
    "\n",
    "except Exception as e:\n",
    "    print(f\"Ocorreu um erro durante a execução: {e}\")"
   ]
  },
  {
   "cell_type": "code",
   "execution_count": null,
   "id": "2a2a0b89",
   "metadata": {},
   "outputs": [],
   "source": [
    "# Criar previsões para 2020\n",
    "for indicador in [\"IDHM\", \"IDHM_Renda\", \"IDHM_Educacao\"]:\n",
    "    df[f\"{indicador}_Linear_2020\"] = df[f\"{indicador}_2010\"] + (df[f\"{indicador}_2010\"] - df[f\"{indicador}_2000\"])\n",
    "\n",
    "    # Modelo Exponencial\n",
    "    df[f\"{indicador}_r\"] = np.log(df[f\"{indicador}_2010\"] / df[f\"{indicador}_2000\"]) / 10\n",
    "    df[f\"{indicador}_Exp_2020\"] = df[f\"{indicador}_2000\"] * np.exp(df[f\"{indicador}_r\"] * 20)"
   ]
  },
  {
   "cell_type": "code",
   "execution_count": null,
   "id": "48165b59",
   "metadata": {},
   "outputs": [],
   "source": [
    "# Salvar a saída em um novo arquivo\n",
    "arquivo_saida = \"idhm_projecao_2020.xlsx\"\n",
    "df.to_excel(arquivo_saida, index=False)"
   ]
  },
  {
   "cell_type": "code",
   "execution_count": null,
   "id": "0172b5cf",
   "metadata": {},
   "outputs": [],
   "source": [
    "print(f\"Projeção concluída! Arquivo salvo como: {arquivo_saida}\")"
   ]
  }
 ],
 "metadata": {
  "jupytext": {
   "cell_metadata_filter": "-all",
   "main_language": "python",
   "notebook_metadata_filter": "-all"
  }
 },
 "nbformat": 4,
 "nbformat_minor": 5
}
