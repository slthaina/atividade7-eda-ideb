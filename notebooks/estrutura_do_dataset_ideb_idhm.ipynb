{
 "cells": [
  {
   "cell_type": "markdown",
   "id": "a2c076aa",
   "metadata": {},
   "source": [
    "# Análise Estrutural dos Dados de IDEB e IDHM"
   ]
  },
  {
   "cell_type": "markdown",
   "id": "aa8705c8",
   "metadata": {},
   "source": [
    "Este notebook realiza uma inspeção inicial das principais bases de dados utilizadas no projeto:\n",
    "- **IDEB - Anos Iniciais**;\n",
    "- **IDEB - Anos Finais**;\n",
    "- **IDHM por Subprefeitura da Cidade de São Paulo**."
   ]
  },
  {
   "cell_type": "markdown",
   "id": "e592fd98",
   "metadata": {},
   "source": [
    "As análises iniciais incluem:\n",
    "- Dimensão das bases (linhas e colunas);\n",
    "- Tipos de variáveis;\n",
    "- Contagem de valores ausentes;\n",
    "- Verificação de registros duplicados."
   ]
  },
  {
   "cell_type": "markdown",
   "id": "4ccd93b6",
   "metadata": {},
   "source": [
    "Essas verificações são fundamentais para garantir a integridade dos dados antes das etapas seguintes de análise estatística, visualização e modelagem."
   ]
  },
  {
   "cell_type": "markdown",
   "id": "397c3ddc",
   "metadata": {},
   "source": [
    "Desenvolvido em **Python 3.13**, com execução em **Jupyter Notebook**."
   ]
  },
  {
   "cell_type": "code",
   "execution_count": null,
   "id": "ec37a008",
   "metadata": {},
   "outputs": [],
   "source": [
    "import pandas as pd"
   ]
  },
  {
   "cell_type": "code",
   "execution_count": null,
   "id": "6cafc9d1",
   "metadata": {},
   "outputs": [],
   "source": [
    "# Definindo os caminhos dos arquivos\n",
    "caminho_ideb_iniciais = \"ideb_anos_iniciais.xlsx\"\n",
    "caminho_ideb_finais = \"ideb_anos_finais.xlsx\"\n",
    "caminho_idhm = \"idhm_subpref_anos.xlsx\""
   ]
  },
  {
   "cell_type": "code",
   "execution_count": null,
   "id": "9973362e",
   "metadata": {},
   "outputs": [],
   "source": [
    "# Leitura dos datasets\n",
    "ideb_iniciais = pd.read_excel(caminho_ideb_iniciais)\n",
    "ideb_finais = pd.read_excel(caminho_ideb_finais)\n",
    "idhm = pd.read_excel(caminho_idhm)"
   ]
  },
  {
   "cell_type": "code",
   "execution_count": null,
   "id": "a56cf9b2",
   "metadata": {},
   "outputs": [],
   "source": [
    "# Função para análise básica\n",
    "def analisar_dataset(nome, df):\n",
    "    print(f\"\\nAnálise do dataset: {nome}\")\n",
    "    print(f\"- Total de linhas: {df.shape[0]}\")\n",
    "    print(f\"- Total de colunas: {df.shape[1]}\")\n",
    "    print(f\"- Tipos de dados:\\n{df.dtypes}\")\n",
    "    print(f\"- Total de valores ausentes: {df.isnull().sum().sum()}\")\n",
    "    print(f\"- Registros duplicados: {df.duplicated().sum()}\")"
   ]
  },
  {
   "cell_type": "code",
   "execution_count": null,
   "id": "9db6b2cf",
   "metadata": {},
   "outputs": [],
   "source": [
    "# Executando a análise para cada dataset\n",
    "analisar_dataset(\"IDEB - Anos Iniciais\", ideb_iniciais)\n",
    "analisar_dataset(\"IDEB - Anos Finais\", ideb_finais)\n",
    "analisar_dataset(\"IDHM\", idhm)"
   ]
  }
 ],
 "metadata": {
  "jupytext": {
   "cell_metadata_filter": "-all",
   "main_language": "python",
   "notebook_metadata_filter": "-all"
  }
 },
 "nbformat": 4,
 "nbformat_minor": 5
}


