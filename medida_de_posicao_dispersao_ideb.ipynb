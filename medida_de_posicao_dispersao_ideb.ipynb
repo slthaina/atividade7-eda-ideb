{
 "cells": [
  {
   "cell_type": "markdown",
   "id": "f0ef7c4e",
   "metadata": {},
   "source": [
    "Este script realiza o cálculo de estatísticas descritivas (medidas de posição e dispersão) \n",
    "e gera visualizações da evolução do IDEB (Índice de Desenvolvimento da Educação Básica) ao \n",
    "longo do tempo, segmentadas por subprefeitura da cidade de São Paulo. São analisados dados \n",
    "dos anos iniciais e finais do ensino fundamental, permitindo uma visão comparativa do desempenho \n",
    "educacional em diferentes regiões da cidade."
   ]
  },
  {
   "cell_type": "markdown",
   "id": "94112388",
   "metadata": {},
   "source": [
    "Objetivo:\n",
    "Explorar tendências regionais de desempenho educacional e identificar variações temporais e \n",
    "espaciais no IDEB, contribuindo para uma análise das desigualdades educacionais no município."
   ]
  },
  {
   "cell_type": "markdown",
   "id": "eec46aa3",
   "metadata": {},
   "source": [
    "Principais funcionalidades:\n",
    "- Cálculo de média, mediana, moda, quartis e outros percentis por subprefeitura;\n",
    "- Geração de gráficos de linha que mostram a evolução do IDEB entre 2005 e 2023;\n",
    "- Exportação dos resultados em arquivos .csv e .png."
   ]
  },
  {
   "cell_type": "code",
   "execution_count": null,
   "id": "f33ea3e3",
   "metadata": {},
   "outputs": [],
   "source": [
    "import pandas as pd\n",
    "import matplotlib.pyplot as plt\n",
    "import seaborn as sns\n",
    "import os"
   ]
  },
  {
   "cell_type": "code",
   "execution_count": null,
   "id": "c3e3f066",
   "metadata": {},
   "outputs": [],
   "source": [
    "try:\n",
    "    # Criar diretório para salvar os gráficos\n",
    "    os.makedirs(\"analises/graficos_plots\", exist_ok=True)\n",
    "\n",
    "    # Carregar os dados do IDEB para anos iniciais e finais\n",
    "    df_ideb_iniciais = pd.read_excel(\"ideb_anos_iniciais.xlsx\")\n",
    "    df_ideb_finais = pd.read_excel(\"ideb_anos_finais.xlsx\")\n",
    "\n",
    "    # Definir colunas para os dois níveis de ensino\n",
    "    colunas_ideb_iniciais = [\n",
    "        'IDEB_2005_iniciais', 'IDEB_2009_iniciais', 'IDEB_2011_iniciais', 'IDEB_2013_iniciais', \n",
    "        'IDEB_2015_iniciais', 'IDEB_2017_iniciais', 'IDEB_2019_iniciais', 'IDEB_2021_iniciais', 'IDEB_2023_iniciais'\n",
    "    ]\n",
    "    \n",
    "    colunas_ideb_finais = [\n",
    "        'IDEB_2005_finais', 'IDEB_2009_finais', 'IDEB_2011_finais', 'IDEB_2013_finais', \n",
    "        'IDEB_2015_finais', 'IDEB_2017_finais', 'IDEB_2019_finais', 'IDEB_2021_finais', 'IDEB_2023_finais'\n",
    "    ]\n",
    "\n",
    "    # Converter colunas para numéricas\n",
    "    df_ideb_iniciais[colunas_ideb_iniciais] = df_ideb_iniciais[colunas_ideb_iniciais].apply(pd.to_numeric, errors='coerce')\n",
    "    df_ideb_finais[colunas_ideb_finais] = df_ideb_finais[colunas_ideb_finais].apply(pd.to_numeric, errors='coerce')\n",
    "\n",
    "    # Função para calcular estatísticas descritivas por Prefeitura Regional\n",
    "    def calcular_estatisticas(df, colunas):\n",
    "        estatisticas = df.groupby(\"Prefeitura Regional\")[colunas].agg([\n",
    "            \"mean\", \"median\", lambda x: x.mode().iloc[0] if not x.mode().empty else None,\n",
    "            lambda x: x.quantile(0.25), lambda x: x.quantile(0.75),\n",
    "            lambda x: x.quantile(0.1), lambda x: x.quantile(0.9)\n",
    "        ])\n",
    "        estatisticas.columns = ['_'.join(col).strip() for col in estatisticas.columns.values]\n",
    "        return estatisticas\n",
    "\n",
    "    # Paleta de cores para gráficos\n",
    "    cores = sns.color_palette(\"tab20\", n_colors=31) + sns.color_palette(\"Set1\", n_colors=11)\n",
    "\n",
    "    # Função para gerar gráficos\n",
    "    def gerar_graficos(df, colunas, nome_periodo):\n",
    "        nome_periodo_formatado = nome_periodo.lower().replace(' ', '_').strip()\n",
    "        anos = [col.split('_')[1] for col in colunas]\n",
    "\n",
    "        estatisticas = calcular_estatisticas(df, colunas)\n",
    "        estatisticas.to_csv(f\"analises/graficos_plots/estatisticas_{nome_periodo_formatado}.csv\")\n",
    "\n",
    "        # Gráfico de linha (Evolução do IDEB)\n",
    "        plt.figure(figsize=(14, 8))\n",
    "        for i, subpref in enumerate(df[\"Prefeitura Regional\"].unique()):\n",
    "            sub_df = df[df[\"Prefeitura Regional\"] == subpref]\n",
    "            valores = sub_df[colunas].mean()\n",
    "            plt.plot(anos, valores, marker='o', label=subpref, color=cores[i % len(cores)])\n",
    "        \n",
    "        plt.xticks(rotation=45)\n",
    "        plt.title(f\"Evolução do IDEB ({nome_periodo}) por Subprefeitura\")\n",
    "        plt.ylabel(\"IDEB\")\n",
    "        plt.xlabel(\"Ano\")\n",
    "        plt.grid()\n",
    "        plt.legend(loc='upper left', bbox_to_anchor=(1.05, 1), fontsize='small', ncol=2)\n",
    "        plt.tight_layout()\n",
    "        plt.savefig(f\"analises/graficos_plots/evolucao_ideb_{nome_periodo_formatado}.png\", bbox_inches=\"tight\", dpi=300)\n",
    "        plt.close()\n",
    "\n",
    "    # Gerar gráficos e estatísticas para anos iniciais e finais\n",
    "    gerar_graficos(df_ideb_iniciais, colunas_ideb_iniciais, \"Anos Iniciais\")\n",
    "    gerar_graficos(df_ideb_finais, colunas_ideb_finais, \"Anos Finais\")"
   ]
  },
  {
   "cell_type": "code",
   "execution_count": null,
   "id": "9cf8cdb2",
   "metadata": {
    "lines_to_next_cell": 2
   },
   "outputs": [],
   "source": [
    "except FileNotFoundError:\n",
    "    print(\"Arquivo não encontrado. Verifique o nome do arquivo e o caminho.\")\n",
    "except Exception as e:\n",
    "    print(f\"Ocorreu um erro: {e}\")"
   ]
  }
 ],
 "metadata": {
  "jupytext": {
   "cell_metadata_filter": "-all",
   "main_language": "python",
   "notebook_metadata_filter": "-all"
  }
 },
 "nbformat": 4,
 "nbformat_minor": 5
}
