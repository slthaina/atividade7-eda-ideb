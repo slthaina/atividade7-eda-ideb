{
 "cells": [
  {
   "cell_type": "markdown",
   "id": "a2c076aa",
   "metadata": {},
   "source": [
    "Análise Estrutural dos Dados de IDEB e IDHM"
   ]
  },
  {
   "cell_type": "markdown",
   "id": "aa8705c8",
   "metadata": {},
   "source": [
    "Este script realiza uma inspeção inicial das principais bases de dados utilizadas no projeto: \n",
    "- IDEB dos anos iniciais,\n",
    "- IDEB dos anos finais,\n",
    "- IDHM por subprefeitura da cidade de São Paulo."
   ]
  },
  {
   "cell_type": "markdown",
   "id": "e592fd98",
   "metadata": {},
   "source": [
    "As análises iniciais incluem:\n",
    "- Dimensão das bases (linhas e colunas),\n",
    "- Tipagem das variáveis,\n",
    "- Contagem de valores ausentes e registros duplicados."
   ]
  },
  {
   "cell_type": "markdown",
   "id": "4ccd93b6",
   "metadata": {},
   "source": [
    "Essas verificações são fundamentais para garantir a integridade dos dados antes das etapas posteriores de análise estatística, # # visualização e modelagem."
   ]
  },
  {
   "cell_type": "markdown",
   "id": "397c3ddc",
   "metadata": {},
   "source": [
    "Desenvolvido em Python 3.13 e compatível com execução em Jupyter Notebook."
   ]
  },
  {
   "cell_type": "code",
   "execution_count": null,
   "id": "ec37a008",
   "metadata": {},
   "outputs": [],
   "source": [
    "import pandas as pd"
   ]
  },
  {
   "cell_type": "code",
   "execution_count": null,
   "id": "6cafc9d1",
   "metadata": {},
   "outputs": [],
   "source": [
    "# Caminhos dos arquivos\n",
    "caminho_ideb_iniciais = \"ideb_anos_iniciais.xlsx\"\n",
    "caminho_ideb_finais = \"ideb_anos_finais.xlsx\"\n",
    "caminho_idhm = \"idhm_subpref_anos.xlsx\""
   ]
  },
  {
   "cell_type": "code",
   "execution_count": null,
   "id": "9973362e",
   "metadata": {
    "lines_to_next_cell": 1
   },
   "outputs": [],
   "source": [
    "# Leitura dos datasets\n",
    "ideb_iniciais = pd.read_excel(caminho_ideb_iniciais)\n",
    "ideb_finais = pd.read_excel(caminho_ideb_finais)\n",
    "idhm = pd.read_excel(caminho_idhm)"
   ]
  },
  {
   "cell_type": "code",
   "execution_count": null,
   "id": "a56cf9b2",
   "metadata": {
    "lines_to_next_cell": 1
   },
   "outputs": [],
   "source": [
    "# Função de análise básica\n",
    "def analisar_dataset(nome, df):\n",
    "    print(f\"\\nAnálise do dataset: {nome}\")\n",
    "    print(f\"- Total de linhas: {df.shape[0]}\")\n",
    "    print(f\"- Total de colunas: {df.shape[1]}\")\n",
    "    print(f\"- Tipos de dados:\\n{df.dtypes}\")\n",
    "    print(f\"- Valores ausentes: {df.isnull().sum().sum()}\")\n",
    "    print(f\"- Registros duplicados: {df.duplicated().sum()}\")"
   ]
  },
  {
   "cell_type": "code",
   "execution_count": null,
   "id": "9db6b2cf",
   "metadata": {},
   "outputs": [],
   "source": [
    "# Executar análise para cada dataset\n",
    "analisar_dataset(\"IDEB - Anos Iniciais\", ideb_iniciais)\n",
    "analisar_dataset(\"IDEB - Anos Finais\", ideb_finais)\n",
    "analisar_dataset(\"IDHM\", idhm)"
   ]
  }
 ],
 "metadata": {
  "jupytext": {
   "cell_metadata_filter": "-all",
   "main_language": "python",
   "notebook_metadata_filter": "-all"
  }
 },
 "nbformat": 4,
 "nbformat_minor": 5
}
