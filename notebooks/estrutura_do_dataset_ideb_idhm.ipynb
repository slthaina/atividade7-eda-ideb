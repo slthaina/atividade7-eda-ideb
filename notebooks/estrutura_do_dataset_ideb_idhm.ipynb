{
 "cells": [
  {
   "cell_type": "markdown",
   "id": "5137f026",
   "metadata": {},
   "source": [
    "#  Importação de Bibliotecas"
   ]
  },
  {
   "cell_type": "markdown",
   "id": "47ab9835",
   "metadata": {},
   "source": [
    "#  Importação de Bibliotecas"
   ]
  },
  {
   "cell_type": "markdown",
   "id": "cfd9ad89",
   "metadata": {},
   "source": [
    "#  Definição de Caminhos para os Arquivos"
   ]
  },
  {
   "cell_type": "markdown",
   "id": "e22e73cf",
   "metadata": {},
   "source": [
    "Análise Estrutural dos Dados de IDEB e IDHM"
   ]
  },
  {
   "cell_type": "markdown",
   "id": "ec9d0a87",
   "metadata": {},
   "source": [
    "#  Leitura dos Arquivos Excel"
   ]
  },
  {
   "cell_type": "markdown",
   "id": "1fbbfab0",
   "metadata": {},
   "source": [
    "#  Definição de Caminhos para os Arquivos"
   ]
  },
  {
   "cell_type": "markdown",
   "id": "d668c5ca",
   "metadata": {},
   "source": [
    "#  Verificação da Dimensão dos DataFrames"
   ]
  },
  {
   "cell_type": "markdown",
   "id": "e30c739d",
   "metadata": {},
   "source": [
    "Este script realiza uma inspeção inicial das principais bases de dados utilizadas no projeto: \n",
    "- IDEB dos anos iniciais,\n",
    "- IDEB dos anos finais,\n",
    "- IDHM por subprefeitura da cidade de São Paulo."
   ]
  },
  {
   "cell_type": "markdown",
   "id": "ba2c1103",
   "metadata": {},
   "source": [
    "#  Tipagem das Variáveis"
   ]
  },
  {
   "cell_type": "markdown",
   "id": "4ee96547",
   "metadata": {},
   "source": [
    "#  Leitura dos Arquivos Excel"
   ]
  },
  {
   "cell_type": "markdown",
   "id": "e79b54dc",
   "metadata": {},
   "source": [
    "#  Contagem de Valores Ausentes"
   ]
  },
  {
   "cell_type": "markdown",
   "id": "517a9170",
   "metadata": {},
   "source": [
    "As análises iniciais incluem:\n",
    "- Dimensão das bases (linhas e colunas),\n",
    "- Tipagem das variáveis,\n",
    "- Contagem de valores ausentes e registros duplicados."
   ]
  },
  {
   "cell_type": "markdown",
   "id": "c46ab440",
   "metadata": {},
   "source": [
    "#  Verificação de Registros Duplicados"
   ]
  },
  {
   "cell_type": "markdown",
   "id": "57a9949c",
   "metadata": {},
   "source": [
    "#  Verificação da Dimensão dos DataFrames"
   ]
  },
  {
   "cell_type": "markdown",
   "id": "52dd00fd",
   "metadata": {},
   "source": [
    "Essas verificações são fundamentais para garantir a integridade dos dados antes das etapas posteriores de análise estatística, # # visualização e modelagem."
   ]
  },
  {
   "cell_type": "markdown",
   "id": "db0ffda7",
   "metadata": {},
   "source": [
    "#  Tipagem das Variáveis"
   ]
  },
  {
   "cell_type": "markdown",
   "id": "153a6772",
   "metadata": {},
   "source": [
    "Desenvolvido em Python 3.13 e compatível com execução em Jupyter Notebook."
   ]
  },
  {
   "cell_type": "markdown",
   "id": "df4765ff",
   "metadata": {},
   "source": [
    "#  Contagem de Valores Ausentes"
   ]
  },
  {
   "cell_type": "code",
   "execution_count": null,
   "id": "6f91891e",
   "metadata": {},
   "outputs": [],
   "source": [
    "# Importação da biblioteca pandas para manipulação de dados\n",
    "import pandas as pd"
   ]
  },
  {
   "cell_type": "markdown",
   "id": "1b64d6ea",
   "metadata": {},
   "source": [
    "#  Verificação de Registros Duplicados"
   ]
  },
  {
   "cell_type": "code",
   "execution_count": null,
   "id": "198ae0f3",
   "metadata": {},
   "outputs": [],
   "source": [
    "# Definição dos caminhos para os arquivos de dados (IDEB e IDHM)\n",
    "# Caminhos dos arquivos\n",
    "caminho_ideb_iniciais = \"ideb_anos_iniciais.xlsx\"\n",
    "caminho_ideb_finais = \"ideb_anos_finais.xlsx\"\n",
    "caminho_idhm = \"idhm_subpref_anos.xlsx\""
   ]
  },
  {
   "cell_type": "code",
   "execution_count": null,
   "id": "87aa0310",
   "metadata": {
    "lines_to_next_cell": 1
   },
   "outputs": [],
   "source": [
    "# Definição dos caminhos para os arquivos de dados (IDEB e IDHM)\n",
    "# Leitura dos datasets\n",
    "ideb_iniciais = pd.read_excel(caminho_ideb_iniciais)\n",
    "ideb_finais = pd.read_excel(caminho_ideb_finais)\n",
    "idhm = pd.read_excel(caminho_idhm)"
   ]
  },
  {
   "cell_type": "code",
   "execution_count": null,
   "id": "af4e0857",
   "metadata": {
    "lines_to_next_cell": 1
   },
   "outputs": [],
   "source": [
    "# Verificação da dimensão (linhas, colunas) de cada DataFrame\n",
    "# Função de análise básica\n",
    "def analisar_dataset(nome, df):\n",
    "    print(f\"\\nAnálise do dataset: {nome}\")\n",
    "    print(f\"- Total de linhas: {df.shape[0]}\")\n",
    "    print(f\"- Total de colunas: {df.shape[1]}\")\n",
    "    print(f\"- Tipos de dados:\\n{df.dtypes}\")\n",
    "    print(f\"- Valores ausentes: {df.isnull().sum().sum()}\")\n",
    "    print(f\"- Registros duplicados: {df.duplicated().sum()}\")"
   ]
  },
  {
   "cell_type": "code",
   "execution_count": null,
   "id": "9eb10bdd",
   "metadata": {},
   "outputs": [],
   "source": [
    "# Executar análise para cada dataset\n",
    "analisar_dataset(\"IDEB - Anos Iniciais\", ideb_iniciais)\n",
    "analisar_dataset(\"IDEB - Anos Finais\", ideb_finais)\n",
    "analisar_dataset(\"IDHM\", idhm)"
   ]
  }
 ],
 "metadata": {
  "jupytext": {
   "cell_metadata_filter": "-all",
   "main_language": "python",
   "notebook_metadata_filter": "-all"
  }
 },
 "nbformat": 4,
 "nbformat_minor": 5
}
