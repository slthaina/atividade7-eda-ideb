{
 "cells": [
  {
   "cell_type": "markdown",
   "id": "16f024bc",
   "metadata": {},
   "source": [
    "# Projeção do Índice de Desenvolvimento Humano Municipal (IDHM) para 2020"
   ]
  },
  {
   "cell_type": "markdown",
   "id": "b08c1bee",
   "metadata": {},
   "source": [
    "Este script tem como objetivo projetar os valores do IDHM (Índice de Desenvolvimento Humano Municipal), incluindo os subcomponentes de Renda e Educação, para o ano de 2020. A análise é realizada para as subprefeituras da cidade de São Paulo, utilizando como base os dados oficiais disponíveis referentes aos anos de 2000 e 2010."
   ]
  },
  {
   "cell_type": "markdown",
   "id": "c74207aa",
   "metadata": {},
   "source": [
    "## Metodologias aplicadas\n",
    "\n",
    "Para estimar os valores de 2020, duas abordagens matemáticas são utilizadas:\n",
    "\n",
    "- **Projeção Linear:** Assume que o crescimento entre 2000 e 2010 continuará de forma constante até 2020. O cálculo é feito somando à taxa de 2010 a diferença observada entre 2000 e 2010.\n",
    "\n",
    "- **Projeção Exponencial:** Supõe que o crescimento ocorre a uma taxa percentual constante ao longo do tempo. Calcula-se a taxa média anual de crescimento entre 2000 e 2010 e aplica-se essa taxa acumulada ao período de 20 anos (2000 a 2020)."
   ]
  },
  {
   "cell_type": "markdown",
   "id": "29dcec03",
   "metadata": {},
   "source": [
    "## Etapas do script\n",
    "\n",
    "1. **Carregamento dos dados:**\n",
    "   - O script é preparado para abrir arquivos de dados nos formatos `.xlsx` (Excel) ou `.csv` (texto separado por vírgulas), contendo os valores históricos do IDHM por subprefeitura.\n",
    "\n",
    "2. **Cálculo das projeções:**\n",
    "   - Para cada subprefeitura, são calculadas as projeções do IDHM geral, de Renda e de Educação usando tanto o modelo Linear quanto o Exponencial.\n",
    "\n",
    "3. **Exportação dos resultados:**\n",
    "   - As projeções calculadas são salvas em um novo arquivo Excel, que pode ser utilizado para análise posterior."
   ]
  },
  {
   "cell_type": "markdown",
   "id": "f9ffb41d",
   "metadata": {},
   "source": [
    "Este script foi desenvolvido na linguagem Python, versão 3.13, utilizando o ambiente IDLE, e posteriormente adaptado para execução em Jupyter Notebook para facilitar a visualização dos resultados e a manipulação interativa dos dados."
   ]
  },
  {
   "cell_type": "code",
   "execution_count": null,
   "id": "a62f65ab",
   "metadata": {},
   "outputs": [],
   "source": [
    "# Importação das bibliotecas necessárias\n",
    "import pandas as pd  # Para manipulação de dados em tabelas (DataFrames)\n",
    "import numpy as np   # Para operações matemáticas avançadas"
   ]
  },
  {
   "cell_type": "code",
   "execution_count": null,
   "id": "9520da71",
   "metadata": {},
   "outputs": [],
   "source": [
    "# Definir o nome do arquivo de entrada com os dados históricos\n",
    "arquivo_entrada = \"idhm_subpref_anos.xlsx\"  # Pode ser substituído por \"idhm_subpref_anos.csv\" se estiver em CSV"
   ]
  },
  {
   "cell_type": "code",
   "execution_count": null,
   "id": "7c28ea53",
   "metadata": {},
   "outputs": [],
   "source": [
    "# Carregar os dados do arquivo Excel ou CSV\n",
    "try:\n",
    "    if arquivo_entrada.endswith(\".xlsx\"):\n",
    "        df = pd.read_excel(arquivo_entrada)\n",
    "    else:\n",
    "        df = pd.read_csv(arquivo_entrada)\n",
    "except FileNotFoundError:\n",
    "    print(f\"Erro: Arquivo '{arquivo_entrada}' não encontrado. Verifique o nome e tente novamente.\")\n",
    "    exit()"
   ]
  },
  {
   "cell_type": "code",
   "execution_count": null,
   "id": "2a2a0b89",
   "metadata": {},
   "outputs": [],
   "source": [
    "# Cálculo das projeções para o ano de 2020 para cada indicador\n",
    "for indicador in [\"IDHM\", \"IDHM_Renda\", \"IDHM_Educacao\"]:\n",
    "    # Projeção Linear: crescimento absoluto\n",
    "    df[f\"{indicador}_Linear_2020\"] = df[f\"{indicador}_2010\"] + (df[f\"{indicador}_2010\"] - df[f\"{indicador}_2000\"])\n",
    "\n",
    "    # Projeção Exponencial: crescimento percentual acumulado\n",
    "    df[f\"{indicador}_r\"] = np.log(df[f\"{indicador}_2010\"] / df[f\"{indicador}_2000\"]) / 10  # taxa anual\n",
    "    df[f\"{indicador}_Exp_2020\"] = df[f\"{indicador}_2000\"] * np.exp(df[f\"{indicador}_r\"] * 20)  # aplicando para 20 anos"
   ]
  },
  {
   "cell_type": "code",
   "execution_count": null,
   "id": "48165b59",
   "metadata": {},
   "outputs": [],
   "source": [
    "# Salvar os resultados das projeções em um novo arquivo Excel\n",
    "arquivo_saida = \"idhm_projecao_2020.xlsx\"\n",
    "df.to_excel(arquivo_saida, index=False)"
   ]
  },
  {
   "cell_type": "code",
   "execution_count": null,
   "id": "0172b5cf",
   "metadata": {},
   "outputs": [],
   "source": [
    "print(f\"Projeção concluída com sucesso! Os resultados foram salvos no arquivo: {arquivo_saida}\")"
   ]
  }
 ],
 "metadata": {
  "jupytext": {
   "cell_metadata_filter": "-all",
   "main_language": "python",
   "notebook_metadata_filter": "-all"
  }
 },
 "nbformat": 4,
 "nbformat_minor": 5
}
