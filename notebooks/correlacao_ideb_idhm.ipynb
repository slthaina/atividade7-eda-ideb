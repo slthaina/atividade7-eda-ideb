{
 "cells": [
  {
   "cell_type": "markdown",
   "id": "21be41ee",
   "metadata": {},
   "source": [
    "Análise de Correlação entre o IDEB e o IDHM nas Subprefeituras de São Paulo"
   ]
  },
  {
   "cell_type": "markdown",
   "id": "b7bfad2d",
   "metadata": {},
   "source": [
    "Este script tem como objetivo principal investigar a relação entre o Índice de Desenvolvimento da Educação Básica (IDEB) \n",
    "e o Índice de Desenvolvimento Humano Municipal (IDHM) nas subprefeituras da cidade de São Paulo, utilizando dados dos \n",
    "anos de 2000, 2010 e projeções para 2020."
   ]
  },
  {
   "cell_type": "markdown",
   "id": "504184d8",
   "metadata": {},
   "source": [
    "A partir de dados públicos, o código:\n",
    "- Agrupa o IDEB por subprefeitura e período;\n",
    "- Integra com os dados do IDHM (renda e educação);\n",
    "- Gera estatísticas descritivas;\n",
    "- Calcula correlações e produz mapas de calor;\n",
    "- Cria gráficos de dispersão e histogramas;\n",
    "- Exporta planilhas com os resultados."
   ]
  },
  {
   "cell_type": "markdown",
   "id": "1ad94fb0",
   "metadata": {},
   "source": [
    "Este projeto foi originalmente desenvolvido em Python 3.13 no IDLE e adaptado para execução em Jupyter Notebook \n",
    "para fins de reprodutibilidade e compartilhamento no GitHub."
   ]
  },
  {
   "cell_type": "code",
   "execution_count": null,
   "id": "dd1e3f72",
   "metadata": {},
   "outputs": [],
   "source": [
    "import pandas as pd\n",
    "import seaborn as sns\n",
    "import matplotlib.pyplot as plt\n",
    "import os"
   ]
  },
  {
   "cell_type": "code",
   "execution_count": null,
   "id": "0f81aa70",
   "metadata": {},
   "outputs": [],
   "source": [
    "# Criar pasta de saída para resultados\n",
    "output_dir = \"resultados_analise\"\n",
    "os.makedirs(output_dir, exist_ok=True)"
   ]
  },
  {
   "cell_type": "code",
   "execution_count": null,
   "id": "117713ac",
   "metadata": {},
   "outputs": [],
   "source": [
    "# Carregar os arquivos\n",
    "file_idhm = \"idhm_subpref_anos.xlsx\"\n",
    "file_ideb_finais = \"ideb_anos_finais.xlsx\"\n",
    "file_ideb_iniciais = \"ideb_anos_iniciais.xlsx\""
   ]
  },
  {
   "cell_type": "code",
   "execution_count": null,
   "id": "4aa34188",
   "metadata": {},
   "outputs": [],
   "source": [
    "idhm_df = pd.read_excel(file_idhm, sheet_name=\"subprefeitura\")\n",
    "ideb_finais_df = pd.read_excel(file_ideb_finais, sheet_name=\"Sheet1\")\n",
    "ideb_iniciais_df = pd.read_excel(file_ideb_iniciais, sheet_name=\"Sheet1\")"
   ]
  },
  {
   "cell_type": "code",
   "execution_count": null,
   "id": "b2918260",
   "metadata": {},
   "outputs": [],
   "source": [
    "# Converter para numérico e tratar valores ausentes\n",
    "ideb_cols_finais_2000 = [\"IDEB_2005_finais\", \"IDEB_2009_finais\"]\n",
    "ideb_cols_finais_2010 = [\"IDEB_2011_finais\", \"IDEB_2013_finais\", \"IDEB_2015_finais\", \"IDEB_2017_finais\", \"IDEB_2019_finais\"]\n",
    "ideb_cols_finais_2020 = [\"IDEB_2021_finais\", \"IDEB_2023_finais\"]"
   ]
  },
  {
   "cell_type": "code",
   "execution_count": null,
   "id": "a9294e09",
   "metadata": {},
   "outputs": [],
   "source": [
    "ideb_cols_iniciais_2000 = [\"IDEB_2005_iniciais\", \"IDEB_2009_iniciais\"]\n",
    "ideb_cols_iniciais_2010 = [\"IDEB_2011_iniciais\", \"IDEB_2013_iniciais\", \"IDEB_2015_iniciais\", \"IDEB_2017_iniciais\", \"IDEB_2019_iniciais\"]\n",
    "ideb_cols_iniciais_2020 = [\"IDEB_2021_iniciais\", \"IDEB_2023_iniciais\"]"
   ]
  },
  {
   "cell_type": "code",
   "execution_count": null,
   "id": "2b8e714b",
   "metadata": {},
   "outputs": [],
   "source": [
    "for col in ideb_cols_finais_2000 + ideb_cols_finais_2010 + ideb_cols_finais_2020:\n",
    "    if col in ideb_finais_df.columns:\n",
    "        ideb_finais_df[col] = pd.to_numeric(ideb_finais_df[col], errors='coerce')\n",
    "for col in ideb_cols_iniciais_2000 + ideb_cols_iniciais_2010 + ideb_cols_iniciais_2020:\n",
    "    if col in ideb_iniciais_df.columns:\n",
    "        ideb_iniciais_df[col] = pd.to_numeric(ideb_iniciais_df[col], errors='coerce')"
   ]
  },
  {
   "cell_type": "code",
   "execution_count": null,
   "id": "7b956d76",
   "metadata": {},
   "outputs": [],
   "source": [
    "# Calcular a média do IDEB por Prefeitura Regional\n",
    "ideb_finais_media_2000 = ideb_finais_df.groupby(\"Prefeitura Regional\")[ideb_cols_finais_2000].mean().reset_index()\n",
    "ideb_finais_media_2010 = ideb_finais_df.groupby(\"Prefeitura Regional\")[ideb_cols_finais_2010].mean().reset_index()\n",
    "ideb_finais_media_2020 = ideb_finais_df.groupby(\"Prefeitura Regional\")[ideb_cols_finais_2020].mean().reset_index()"
   ]
  },
  {
   "cell_type": "code",
   "execution_count": null,
   "id": "ca35bd59",
   "metadata": {},
   "outputs": [],
   "source": [
    "ideb_iniciais_media_2000 = ideb_iniciais_df.groupby(\"Prefeitura Regional\")[ideb_cols_iniciais_2000].mean().reset_index()\n",
    "ideb_iniciais_media_2010 = ideb_iniciais_df.groupby(\"Prefeitura Regional\")[ideb_cols_iniciais_2010].mean().reset_index()\n",
    "ideb_iniciais_media_2020 = ideb_iniciais_df.groupby(\"Prefeitura Regional\")[ideb_cols_iniciais_2020].mean().reset_index()"
   ]
  },
  {
   "cell_type": "code",
   "execution_count": null,
   "id": "770c8d40",
   "metadata": {
    "lines_to_next_cell": 1
   },
   "outputs": [],
   "source": [
    "# Unir com os dados do IDHM\n",
    "idhm_2000 = idhm_df[[\"Prefeitura Regional\", \"IDHM_2000\", \"IDHM_Renda_2000\", \"IDHM_Educacao_2000\"]]\n",
    "idhm_2010 = idhm_df[[\"Prefeitura Regional\", \"IDHM_2010\", \"IDHM_Renda_2010\", \"IDHM_Educacao_2010\"]]\n",
    "idhm_2020 = idhm_df[[\"Prefeitura Regional\", \"IDHM_2020\", \"IDHM_Renda_2020\", \"IDHM_Educacao_2020\"]]"
   ]
  },
  {
   "cell_type": "code",
   "execution_count": null,
   "id": "f15eea18",
   "metadata": {
    "lines_to_next_cell": 1
   },
   "outputs": [],
   "source": [
    "def merge_and_analyze(ideb_df, idhm_df, title):\n",
    "    df = pd.merge(ideb_df, idhm_df, on=\"Prefeitura Regional\", how=\"inner\")\n",
    "    print(f\"\\nEstatísticas descritivas - {title}\")\n",
    "    print(df.describe())\n",
    "\n",
    "    # Salvar planilha com dados combinados\n",
    "    df.to_excel(os.path.join(output_dir, f\"dados_{title.replace(' ', '_')}.xlsx\"), index=False)\n",
    "\n",
    "    # Correlação\n",
    "    df_corr = df.select_dtypes(include=['number'])\n",
    "    plt.figure(figsize=(12, 5))\n",
    "    sns.heatmap(df_corr.corr(), annot=True, cmap=\"coolwarm\", fmt=\".2f\")\n",
    "    plt.title(f\"Correlação {title}\")\n",
    "    plt.tight_layout()\n",
    "    plt.savefig(os.path.join(output_dir, f\"heatmap_correlacao_{title.replace(' ', '_')}.png\"))\n",
    "    plt.close()\n",
    "\n",
    "    # Dispersão IDEB vs IDHM\n",
    "    for ideb_col in [col for col in df.columns if \"IDEB\" in col]:\n",
    "        plt.figure(figsize=(8, 5))\n",
    "        sns.scatterplot(x=df[ideb_col], y=df[\"IDHM_\" + title[-4:]], alpha=0.7)\n",
    "        plt.title(f\"{ideb_col} vs IDHM {title[-4:]}\")\n",
    "        plt.xlabel(ideb_col)\n",
    "        plt.ylabel(f\"IDHM {title[-4:]}\")\n",
    "        plt.tight_layout()\n",
    "        plt.savefig(os.path.join(output_dir, f\"scatter_{ideb_col}_vs_IDHM_{title[-4:]}.png\"))\n",
    "        plt.close()\n",
    "\n",
    "    # Outras medidas de dispersão\n",
    "    amplitude = df.max(numeric_only=True) - df.min(numeric_only=True)\n",
    "    coef_var = (df.std(numeric_only=True) / df.mean(numeric_only=True)) * 100\n",
    "    amplitude.to_excel(os.path.join(output_dir, f\"amplitude_{title.replace(' ', '_')}.xlsx\"))\n",
    "    coef_var.to_excel(os.path.join(output_dir, f\"coef_variacao_{title.replace(' ', '_')}.xlsx\"))\n",
    "\n",
    "    # Histogramas\n",
    "    df.select_dtypes(include='number').hist(figsize=(15, 10), bins=10, edgecolor='black')\n",
    "    plt.suptitle(f\"Histogramas - {title}\")\n",
    "    plt.tight_layout(rect=[0, 0, 1, 0.96])\n",
    "    plt.savefig(os.path.join(output_dir, f\"histogramas_{title.replace(' ', '_')}.png\"))\n",
    "    plt.close()\n",
    "\n",
    "    # Tabela de frequência (Prefeitura Regional)\n",
    "    freq = df[\"Prefeitura Regional\"].value_counts()\n",
    "    freq.to_excel(os.path.join(output_dir, f\"frequencia_prefeitura_{title.replace(' ', '_')}.xlsx\"))"
   ]
  },
  {
   "cell_type": "code",
   "execution_count": null,
   "id": "d11ba32e",
   "metadata": {
    "lines_to_next_cell": 2
   },
   "outputs": [],
   "source": [
    "# Análises para cada período\n",
    "merge_and_analyze(ideb_finais_media_2000, idhm_2000, \"IDEB (Anos Finais) e IDHM 2000\")\n",
    "merge_and_analyze(ideb_iniciais_media_2000, idhm_2000, \"IDEB (Anos Iniciais) e IDHM 2000\")\n",
    "merge_and_analyze(ideb_finais_media_2010, idhm_2010, \"IDEB (Anos Finais) e IDHM 2010\")\n",
    "merge_and_analyze(ideb_iniciais_media_2010, idhm_2010, \"IDEB (Anos Iniciais) e IDHM 2010\")\n",
    "merge_and_analyze(ideb_finais_media_2020, idhm_2020, \"IDEB (Anos Finais) e IDHM 2020\")\n",
    "merge_and_analyze(ideb_iniciais_media_2020, idhm_2020, \"IDEB (Anos Iniciais) e IDHM 2020\")"
   ]
  }
 ],
 "metadata": {
  "jupytext": {
   "cell_metadata_filter": "-all",
   "main_language": "python",
   "notebook_metadata_filter": "-all"
  }
 },
 "nbformat": 4,
 "nbformat_minor": 5
}
