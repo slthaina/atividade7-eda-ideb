{
 "cells": [
  {
   "cell_type": "markdown",
   "id": "16f024bc",
   "metadata": {},
   "source": [
    "Projeção do Índice de Desenvolvimento Humano Municipal (IDHM) para 2020"
   ]
  },
  {
   "cell_type": "markdown",
   "id": "b08c1bee",
   "metadata": {},
   "source": [
    "Este script realiza a projeção dos valores do IDHM (geral, renda e educação) das subprefeituras de São Paulo \n",
    "para o ano de 2020, com base nos dados disponíveis dos anos de 2000 e 2010."
   ]
  },
  {
   "cell_type": "markdown",
   "id": "c74207aa",
   "metadata": {},
   "source": [
    "Duas abordagens são aplicadas:\n",
    "- Projeção Linear: estima o crescimento com base na diferença entre 2000 e 2010.\n",
    "- Projeção Exponencial: considera o crescimento percentual médio anual e aplica sobre 20 anos."
   ]
  },
  {
   "cell_type": "markdown",
   "id": "29dcec03",
   "metadata": {},
   "source": [
    "Etapas do script:\n",
    "- Carrega a base de dados (formato .xlsx ou .csv),\n",
    "- Calcula as projeções para 2020,\n",
    "- Exporta os resultados para um novo arquivo Excel."
   ]
  },
  {
   "cell_type": "markdown",
   "id": "f9ffb41d",
   "metadata": {},
   "source": [
    "Desenvolvido em Python 3.13 no IDLE e adaptado para uso em Jupyter Notebook.   "
   ]
  },
  {
   "cell_type": "code",
   "execution_count": null,
   "id": "a62f65ab",
   "metadata": {},
   "outputs": [],
   "source": [
    "import pandas as pd\n",
    "import numpy as np"
   ]
  },
  {
   "cell_type": "code",
   "execution_count": null,
   "id": "9520da71",
   "metadata": {},
   "outputs": [],
   "source": [
    "# Definir o arquivo de entrada\n",
    "arquivo_entrada = \"idhm_subpref_anos.xlsx\"  # ou \"idhm_subpref_anos.xlsx.csv\""
   ]
  },
  {
   "cell_type": "code",
   "execution_count": null,
   "id": "7c28ea53",
   "metadata": {},
   "outputs": [],
   "source": [
    "# Carregar o arquivo Excel ou CSV\n",
    "try:\n",
    "    if arquivo_entrada.endswith(\".xlsx\"):\n",
    "        df = pd.read_excel(arquivo_entrada)\n",
    "    else:\n",
    "        df = pd.read_csv(arquivo_entrada)\n",
    "except FileNotFoundError:\n",
    "    print(f\"Erro: Arquivo '{arquivo_entrada}' não encontrado. Verifique o nome e tente novamente.\")\n",
    "    exit()"
   ]
  },
  {
   "cell_type": "code",
   "execution_count": null,
   "id": "2a2a0b89",
   "metadata": {},
   "outputs": [],
   "source": [
    "# Criar previsões para 2020\n",
    "for indicador in [\"IDHM\", \"IDHM_Renda\", \"IDHM_Educacao\"]:\n",
    "    df[f\"{indicador}_Linear_2020\"] = df[f\"{indicador}_2010\"] + (df[f\"{indicador}_2010\"] - df[f\"{indicador}_2000\"])\n",
    "\n",
    "    # Modelo Exponencial\n",
    "    df[f\"{indicador}_r\"] = np.log(df[f\"{indicador}_2010\"] / df[f\"{indicador}_2000\"]) / 10\n",
    "    df[f\"{indicador}_Exp_2020\"] = df[f\"{indicador}_2000\"] * np.exp(df[f\"{indicador}_r\"] * 20)"
   ]
  },
  {
   "cell_type": "code",
   "execution_count": null,
   "id": "48165b59",
   "metadata": {},
   "outputs": [],
   "source": [
    "# Salvar a saída em um novo arquivo\n",
    "arquivo_saida = \"idhm_projecao_2020.xlsx\"\n",
    "df.to_excel(arquivo_saida, index=False)"
   ]
  },
  {
   "cell_type": "code",
   "execution_count": null,
   "id": "0172b5cf",
   "metadata": {},
   "outputs": [],
   "source": [
    "print(f\"Projeção concluída! Arquivo salvo como: {arquivo_saida}\")"
   ]
  }
 ],
 "metadata": {
  "jupytext": {
   "cell_metadata_filter": "-all",
   "main_language": "python",
   "notebook_metadata_filter": "-all"
  }
 },
 "nbformat": 4,
 "nbformat_minor": 5
}
