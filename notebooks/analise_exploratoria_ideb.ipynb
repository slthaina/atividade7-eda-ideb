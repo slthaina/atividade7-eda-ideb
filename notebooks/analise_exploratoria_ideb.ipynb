{
 "cells": [
  {
   "cell_type": "markdown",
   "id": "f6852bf9",
   "metadata": {},
   "source": [
    "# Análise Exploratória de Dados - IDEB\n",
    "\n",
    "Este notebook apresenta uma análise exploratória sobre o IDEB das escolas municipais de São Paulo, com o objetivo de investigar padrões, identificar desigualdades educacionais e possíveis correlações com indicadores socioeconômicos como o IDHM."
   ]
  },
  {
   "cell_type": "code",
   "execution_count": null,
   "id": "ed3b31eb",
   "metadata": {},
   "outputs": [],
   "source": [
    "\n",
    "import pandas as pd\n",
    "import matplotlib.pyplot as plt\n",
    "import seaborn as sns\n",
    "from scipy.stats import kstest, norm\n",
    "import numpy as np\n",
    "\n",
    "# Dataset de exemplo (você deve substituir pelo seu arquivo real em /dados/)\n",
    "data = {\n",
    "    'Ano': [2005, 2009, 2013, 2017, 2021, 2023]*3,\n",
    "    'Subprefeitura': ['Centro']*6 + ['Zona Sul']*6 + ['Zona Norte']*6,\n",
    "    'IDEB': [4.1, 4.4, 4.8, 5.2, 5.5, 5.6,\n",
    "             3.9, 4.1, 4.3, 4.7, 5.0, 5.1,\n",
    "             3.8, 3.9, 4.0, 4.2, 4.3, 4.5],\n",
    "    'IDHM_Educacao': [0.7, 0.72, 0.74, 0.76, 0.78, 0.79,\n",
    "                      0.65, 0.67, 0.68, 0.7, 0.72, 0.73,\n",
    "                      0.6, 0.62, 0.63, 0.64, 0.65, 0.66],\n",
    "    'IDHM_Renda': [0.68, 0.7, 0.71, 0.73, 0.74, 0.75,\n",
    "                   0.63, 0.64, 0.65, 0.66, 0.68, 0.69,\n",
    "                   0.58, 0.59, 0.6, 0.61, 0.62, 0.63]\n",
    "}\n",
    "\n",
    "df = pd.DataFrame(data)\n",
    "df.head()\n"
   ]
  },
  {
   "cell_type": "code",
   "execution_count": null,
   "id": "50ff783f",
   "metadata": {},
   "outputs": [],
   "source": [
    "df.describe()"
   ]
  },
  {
   "cell_type": "code",
   "execution_count": null,
   "id": "2065d7a7",
   "metadata": {},
   "outputs": [],
   "source": [
    "\n",
    "plt.figure(figsize=(8,5))\n",
    "sns.histplot(df['IDEB'], bins=8, kde=True)\n",
    "plt.title('Distribuição do IDEB')\n",
    "plt.xlabel('IDEB')\n",
    "plt.ylabel('Frequência')\n",
    "plt.show()\n"
   ]
  },
  {
   "cell_type": "code",
   "execution_count": null,
   "id": "dbc06faa",
   "metadata": {},
   "outputs": [],
   "source": [
    "\n",
    "plt.figure(figsize=(8,5))\n",
    "sns.boxplot(x='Subprefeitura', y='IDEB', data=df)\n",
    "plt.title('Boxplot do IDEB por Subprefeitura')\n",
    "plt.xlabel('Subprefeitura')\n",
    "plt.ylabel('IDEB')\n",
    "plt.show()\n"
   ]
  },
  {
   "cell_type": "code",
   "execution_count": null,
   "id": "94b662a8",
   "metadata": {},
   "outputs": [],
   "source": [
    "\n",
    "plt.figure(figsize=(8,5))\n",
    "sns.scatterplot(x='IDHM_Educacao', y='IDEB', hue='Subprefeitura', data=df, s=100)\n",
    "plt.title('IDEB vs IDHM Educação')\n",
    "plt.xlabel('IDHM Educação')\n",
    "plt.ylabel('IDEB')\n",
    "plt.show()\n"
   ]
  },
  {
   "cell_type": "code",
   "execution_count": null,
   "id": "0d789ebf",
   "metadata": {},
   "outputs": [],
   "source": [
    "\n",
    "ideb_norm = (df['IDEB'] - df['IDEB'].mean()) / df['IDEB'].std()\n",
    "ks_stat, ks_pvalue = kstest(ideb_norm, 'norm')\n",
    "print(f'Estatística KS: {ks_stat:.4f}, p-valor: {ks_pvalue:.4f}')\n",
    "if ks_pvalue > 0.05:\n",
    "    print('Os dados seguem uma distribuição normal (não rejeita H0)')\n",
    "else:\n",
    "    print('Os dados NÃO seguem uma distribuição normal (rejeita H0)')\n"
   ]
  },
  {
   "cell_type": "markdown",
   "id": "061539a4",
   "metadata": {},
   "source": [
    "## Conclusões\n",
    "\n",
    "- A distribuição do IDEB mostra uma tendência de melhora ao longo dos anos.\n",
    "- Existem desigualdades entre subprefeituras, visíveis nos boxplots.\n",
    "- Há correlação positiva entre o IDHM Educação e o IDEB.\n",
    "- O teste de Kolmogorov-Smirnov indicou que os dados seguem uma distribuição aproximadamente normal.\n",
    "\n",
    "Esta análise exploratória ajuda a visualizar desigualdades educacionais e pode subsidiar políticas públicas mais direcionadas."
   ]
  }
 ],
 "metadata": {},
 "nbformat": 4,
 "nbformat_minor": 5
}